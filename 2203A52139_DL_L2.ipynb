{
  "nbformat": 4,
  "nbformat_minor": 0,
  "metadata": {
    "colab": {
      "provenance": [],
      "include_colab_link": true
    },
    "kernelspec": {
      "name": "python3",
      "display_name": "Python 3"
    },
    "language_info": {
      "name": "python"
    }
  },
  "cells": [
    {
      "cell_type": "markdown",
      "metadata": {
        "id": "view-in-github",
        "colab_type": "text"
      },
      "source": [
        "<a href=\"https://colab.research.google.com/github/Rohith-1808/Deep-learning-Lab-/blob/main/2203A52026_DL_A2.ipynb\" target=\"_parent\"><img src=\"https://colab.research.google.com/assets/colab-badge.svg\" alt=\"Open In Colab\"/></a>"
      ]
    },
    {
      "cell_type": "code",
      "execution_count": null,
      "metadata": {
        "colab": {
          "base_uri": "https://localhost:8080/"
        },
        "id": "eRX4fdc5Hf8f",
        "outputId": "7a12ef5d-ee97-47c7-96e2-39388f89c52a"
      },
      "outputs": [
        {
          "output_type": "stream",
          "name": "stdout",
          "text": [
            "Maximum profit: Rs 27.00\n",
            "Number of chocolates A: 2.00\n",
            "Number of chocolates B: 3.00\n"
          ]
        }
      ],
      "source": [
        "from scipy.optimize import linprog\n",
        "objective = [-6, -5]\n",
        "lhs_ineq = [\n",
        "    [1, 1],\n",
        "    [3, 2]\n",
        "]\n",
        "rhs_ineq = [5, 12]\n",
        "bounds = [(0, None), (0, None)]\n",
        "result = linprog(c=objective, A_ub=lhs_ineq, b_ub=rhs_ineq, bounds=bounds, method=\"highs\")\n",
        "if result.success:\n",
        "    print(f\"Maximum profit: Rs {-result.fun:.2f}\")\n",
        "    print(f\"Number of chocolates A: {result.x[0]:.2f}\")\n",
        "    print(f\"Number of chocolates B: {result.x[1]:.2f}\")\n",
        "else:\n",
        "    print(\"No solution found.\")"
      ]
    },
    {
      "cell_type": "code",
      "source": [
        "from scipy.optimize import linprog\n",
        "objective = [-50, -120]\n",
        "lhs_ineq = [\n",
        "    [1, 1],\n",
        "    [7000, 2000],\n",
        "    [10, 30]\n",
        "]\n",
        "rhs_ineq = [100, 700000, 1200]\n",
        "bounds = [(0, None), (0, None)]\n",
        "result = linprog(c=objective, A_ub=lhs_ineq, b_ub=rhs_ineq, bounds=bounds, method=\"highs\")\n",
        "if result.success:\n",
        "    print(f\"Maximum profit: Rs {-result.fun:.2f}\")\n",
        "    print(f\"Optimal area for Wheat: {result.x[0]:.2f} hectares\")\n",
        "    print(f\"Optimal area for Barley: {result.x[1]:.2f} hectares\")\n",
        "else:\n",
        "    print(\"No solution found.\")"
      ],
      "metadata": {
        "colab": {
          "base_uri": "https://localhost:8080/"
        },
        "id": "geMAygA2JGmR",
        "outputId": "3766a0d0-0af1-4fe5-d4fe-b5c0b11e83c4"
      },
      "execution_count": 1,
      "outputs": [
        {
          "output_type": "stream",
          "name": "stdout",
          "text": [
            "Maximum profit: Rs 5700.00\n",
            "Optimal area for Wheat: 90.00 hectares\n",
            "Optimal area for Barley: 10.00 hectares\n"
          ]
        }
      ]
    }
  ]
}