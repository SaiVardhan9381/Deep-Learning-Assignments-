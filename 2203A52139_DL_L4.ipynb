{
  "nbformat": 4,
  "nbformat_minor": 0,
  "metadata": {
    "colab": {
      "provenance": [],
      "authorship_tag": "ABX9TyOllNoVarsZXgwzIr/rpnEI",
      "include_colab_link": true
    },
    "kernelspec": {
      "name": "python3",
      "display_name": "Python 3"
    },
    "language_info": {
      "name": "python"
    }
  },
  "cells": [
    {
      "cell_type": "markdown",
      "metadata": {
        "id": "view-in-github",
        "colab_type": "text"
      },
      "source": [
        "<a href=\"https://colab.research.google.com/github/Rohith-1808/Deep-learning-Lab-/blob/main/2203A52026_DL_A4.ipynb\" target=\"_parent\"><img src=\"https://colab.research.google.com/assets/colab-badge.svg\" alt=\"Open In Colab\"/></a>"
      ]
    },
    {
      "cell_type": "code",
      "execution_count": 1,
      "metadata": {
        "colab": {
          "base_uri": "https://localhost:8080/"
        },
        "id": "9377oNTCUV89",
        "outputId": "1f12ca8e-2acd-4dc0-9d7c-8fd0fcb8e806"
      },
      "outputs": [
        {
          "output_type": "stream",
          "name": "stdout",
          "text": [
            "Epoch 0, MSE: 0.04099814220906098\n",
            "Epoch 100, MSE: 0.0008042722302289206\n",
            "Epoch 200, MSE: 0.0006103186776085657\n",
            "Epoch 300, MSE: 0.0004921496827308748\n",
            "Epoch 400, MSE: 0.00040571557608850477\n",
            "Epoch 500, MSE: 0.00031932175291711474\n",
            "Epoch 600, MSE: 0.0002601995795924877\n",
            "Epoch 700, MSE: 0.0002205885992535942\n",
            "Epoch 800, MSE: 0.00016726181718948523\n",
            "Epoch 900, MSE: 0.00013960865147374707\n",
            "Test Data MSE: 0.0021539247713836555\n",
            "Enter x1: 0.6\n",
            "Enter x2: 0.7\n",
            "Enter x3: 0.8\n",
            "Predicted output: [0.42061808]\n"
          ]
        }
      ],
      "source": [
        "import numpy as np\n",
        "\n",
        "X_train = np.array([\n",
        "    [0.1, 0.2, 0.3],\n",
        "    [0.2, 0.3, 0.4],\n",
        "    [0.3, 0.4, 0.5],\n",
        "    [0.5, 0.6, 0.7],\n",
        "    [0.1, 0.3, 0.5],\n",
        "    [0.2, 0.4, 0.6],\n",
        "    [0.3, 0.5, 0.7],\n",
        "    [0.4, 0.6, 0.8],\n",
        "    [0.5, 0.7, 0.1]\n",
        "])\n",
        "y_train = np.array([0.14, 0.20, 0.26, 0.38, 0.22, 0.28, 0.34, 0.40, 0.22])\n",
        "\n",
        "weights = np.random.randn(3)\n",
        "bias = np.random.randn(1)\n",
        "\n",
        "learning_rate = 0.1\n",
        "epochs = 1000\n",
        "\n",
        "def mean_squared_error(y_true, y_pred):\n",
        "    return np.mean((y_true - y_pred) ** 2)\n",
        "\n",
        "def train_sgd(X, y, weights, bias, learning_rate, epochs):\n",
        "    for epoch in range(epochs):\n",
        "        perm = np.random.permutation(len(X))\n",
        "        X_shuffled = X[perm]\n",
        "        y_shuffled = y[perm]\n",
        "\n",
        "        for i in range(len(X)):\n",
        "            x_i = X_shuffled[i]\n",
        "            y_i = y_shuffled[i]\n",
        "\n",
        "            y_pred = np.dot(x_i, weights) + bias\n",
        "            error = y_pred - y_i\n",
        "\n",
        "            gradient_w = error * x_i\n",
        "            gradient_b = error\n",
        "\n",
        "            weights -= learning_rate * gradient_w\n",
        "            bias -= learning_rate * gradient_b\n",
        "\n",
        "        if epoch % 100 == 0:\n",
        "            y_pred_train = np.dot(X, weights) + bias\n",
        "            mse = mean_squared_error(y, y_pred_train)\n",
        "            print(f'Epoch {epoch}, MSE: {mse}')\n",
        "\n",
        "    return weights, bias\n",
        "\n",
        "weights, bias = train_sgd(X_train, y_train, weights, bias, learning_rate, epochs)\n",
        "\n",
        "def predict(x1, x2, x3, weights, bias):\n",
        "    return np.dot([x1, x2, x3], weights) + bias\n",
        "\n",
        "X_test = np.array([\n",
        "    [0.6, 0.7, 0.8],\n",
        "    [0.7, 0.8, 0.9]\n",
        "])\n",
        "y_test = np.array([0.44, 0.50])\n",
        "\n",
        "y_test_pred = np.array([predict(x[0], x[1], x[2], weights, bias) for x in X_test])\n",
        "\n",
        "mse_test = mean_squared_error(y_test, y_test_pred)\n",
        "print(f'Test Data MSE: {mse_test}')\n",
        "\n",
        "def user_input_prediction():\n",
        "    x1 = float(input(\"Enter x1: \"))\n",
        "    x2 = float(input(\"Enter x2: \"))\n",
        "    x3 = float(input(\"Enter x3: \"))\n",
        "    prediction = predict(x1, x2, x3, weights, bias)\n",
        "    print(f\"Predicted output: {prediction}\")\n",
        "\n",
        "\n",
        "user_input_prediction()"
      ]
    }
  ]
}